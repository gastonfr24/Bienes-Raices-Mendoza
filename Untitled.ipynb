{
 "cells": [
  {
   "cell_type": "code",
   "execution_count": 80,
   "id": "1ea7faea",
   "metadata": {},
   "outputs": [],
   "source": [
    "import pandas as pd \n",
    "import numpy as np\n",
    "import matplotlib.pyplot as plt\n",
    "import seaborn as sns"
   ]
  },
  {
   "cell_type": "code",
   "execution_count": 81,
   "id": "923d4877",
   "metadata": {},
   "outputs": [],
   "source": [
    "gc_df = pd.read_csv('mendoza-godoycruz.csv',\n",
    "                      converters={'mts2': lambda x: float(x[:-2]), 'mts2_house': lambda x: float(x[:-2]), \n",
    "                                 #'Price': lambda x: float(x[3:])\n",
    "                                 }\n",
    "                      ) "
   ]
  },
  {
   "cell_type": "code",
   "execution_count": 82,
   "id": "e7337a1a",
   "metadata": {},
   "outputs": [],
   "source": [
    "godoy_df = gc_df.iloc[:,2:]"
   ]
  },
  {
   "cell_type": "code",
   "execution_count": 83,
   "id": "176b5cf8",
   "metadata": {},
   "outputs": [
    {
     "data": {
      "text/html": [
       "<div>\n",
       "<style scoped>\n",
       "    .dataframe tbody tr th:only-of-type {\n",
       "        vertical-align: middle;\n",
       "    }\n",
       "\n",
       "    .dataframe tbody tr th {\n",
       "        vertical-align: top;\n",
       "    }\n",
       "\n",
       "    .dataframe thead th {\n",
       "        text-align: right;\n",
       "    }\n",
       "</style>\n",
       "<table border=\"1\" class=\"dataframe\">\n",
       "  <thead>\n",
       "    <tr style=\"text-align: right;\">\n",
       "      <th></th>\n",
       "      <th>Country</th>\n",
       "      <th>Address</th>\n",
       "      <th>mts2</th>\n",
       "      <th>mts2_house</th>\n",
       "      <th>Bathrooms</th>\n",
       "      <th>Bedrooms</th>\n",
       "      <th>Price</th>\n",
       "    </tr>\n",
       "  </thead>\n",
       "  <tbody>\n",
       "    <tr>\n",
       "      <th>0</th>\n",
       "      <td>Godoy Cruz</td>\n",
       "      <td>Mendoza</td>\n",
       "      <td>200.0</td>\n",
       "      <td>112.0</td>\n",
       "      <td>2</td>\n",
       "      <td>3</td>\n",
       "      <td>US$ 70.000</td>\n",
       "    </tr>\n",
       "    <tr>\n",
       "      <th>1</th>\n",
       "      <td>Godoy Cruz</td>\n",
       "      <td>Mendoza</td>\n",
       "      <td>277.0</td>\n",
       "      <td>347.0</td>\n",
       "      <td>4</td>\n",
       "      <td>5</td>\n",
       "      <td>US$ 140.000</td>\n",
       "    </tr>\n",
       "    <tr>\n",
       "      <th>2</th>\n",
       "      <td>Godoy Cruz</td>\n",
       "      <td>Mendoza</td>\n",
       "      <td>282.0</td>\n",
       "      <td>186.0</td>\n",
       "      <td>3</td>\n",
       "      <td>3</td>\n",
       "      <td>US$ 116.000</td>\n",
       "    </tr>\n",
       "    <tr>\n",
       "      <th>3</th>\n",
       "      <td>Godoy Cruz</td>\n",
       "      <td>Mendoza</td>\n",
       "      <td>112.0</td>\n",
       "      <td>76.0</td>\n",
       "      <td>1</td>\n",
       "      <td>2</td>\n",
       "      <td>US$ 73.000</td>\n",
       "    </tr>\n",
       "    <tr>\n",
       "      <th>4</th>\n",
       "      <td>Godoy Cruz</td>\n",
       "      <td>Mendoza</td>\n",
       "      <td>197.0</td>\n",
       "      <td>151.0</td>\n",
       "      <td>2</td>\n",
       "      <td>3</td>\n",
       "      <td>US$ 90.000</td>\n",
       "    </tr>\n",
       "    <tr>\n",
       "      <th>...</th>\n",
       "      <td>...</td>\n",
       "      <td>...</td>\n",
       "      <td>...</td>\n",
       "      <td>...</td>\n",
       "      <td>...</td>\n",
       "      <td>...</td>\n",
       "      <td>...</td>\n",
       "    </tr>\n",
       "    <tr>\n",
       "      <th>641</th>\n",
       "      <td>Godoy Cruz</td>\n",
       "      <td>Mendoza</td>\n",
       "      <td>109.0</td>\n",
       "      <td>99.0</td>\n",
       "      <td>1</td>\n",
       "      <td>2</td>\n",
       "      <td>US$ 28.000</td>\n",
       "    </tr>\n",
       "    <tr>\n",
       "      <th>642</th>\n",
       "      <td>Godoy Cruz</td>\n",
       "      <td>Mendoza</td>\n",
       "      <td>306.0</td>\n",
       "      <td>306.0</td>\n",
       "      <td>2</td>\n",
       "      <td>3</td>\n",
       "      <td>US$ 55.000</td>\n",
       "    </tr>\n",
       "    <tr>\n",
       "      <th>643</th>\n",
       "      <td>Godoy Cruz</td>\n",
       "      <td>Mendoza</td>\n",
       "      <td>280.0</td>\n",
       "      <td>169.0</td>\n",
       "      <td>3</td>\n",
       "      <td>4</td>\n",
       "      <td>US$ 90.000</td>\n",
       "    </tr>\n",
       "    <tr>\n",
       "      <th>644</th>\n",
       "      <td>Godoy Cruz</td>\n",
       "      <td>Mendoza</td>\n",
       "      <td>263.0</td>\n",
       "      <td>186.0</td>\n",
       "      <td>1</td>\n",
       "      <td>3</td>\n",
       "      <td>US$ 48.000</td>\n",
       "    </tr>\n",
       "    <tr>\n",
       "      <th>645</th>\n",
       "      <td>Godoy Cruz</td>\n",
       "      <td>Mendoza</td>\n",
       "      <td>227.0</td>\n",
       "      <td>133.0</td>\n",
       "      <td>2</td>\n",
       "      <td>4</td>\n",
       "      <td>US$ 49.000</td>\n",
       "    </tr>\n",
       "  </tbody>\n",
       "</table>\n",
       "<p>646 rows × 7 columns</p>\n",
       "</div>"
      ],
      "text/plain": [
       "        Country  Address   mts2  mts2_house  Bathrooms Bedrooms        Price\n",
       "0    Godoy Cruz  Mendoza  200.0       112.0          2        3   US$ 70.000\n",
       "1    Godoy Cruz  Mendoza  277.0       347.0          4        5  US$ 140.000\n",
       "2    Godoy Cruz  Mendoza  282.0       186.0          3        3  US$ 116.000\n",
       "3    Godoy Cruz  Mendoza  112.0        76.0          1        2   US$ 73.000\n",
       "4    Godoy Cruz  Mendoza  197.0       151.0          2        3   US$ 90.000\n",
       "..          ...      ...    ...         ...        ...      ...          ...\n",
       "641  Godoy Cruz  Mendoza  109.0        99.0          1        2   US$ 28.000\n",
       "642  Godoy Cruz  Mendoza  306.0       306.0          2        3   US$ 55.000\n",
       "643  Godoy Cruz  Mendoza  280.0       169.0          3        4   US$ 90.000\n",
       "644  Godoy Cruz  Mendoza  263.0       186.0          1        3   US$ 48.000\n",
       "645  Godoy Cruz  Mendoza  227.0       133.0          2        4   US$ 49.000\n",
       "\n",
       "[646 rows x 7 columns]"
      ]
     },
     "execution_count": 83,
     "metadata": {},
     "output_type": "execute_result"
    }
   ],
   "source": [
    "godoy_df"
   ]
  },
  {
   "cell_type": "code",
   "execution_count": 84,
   "id": "caf31db2",
   "metadata": {},
   "outputs": [
    {
     "name": "stderr",
     "output_type": "stream",
     "text": [
      "<ipython-input-84-939fc901c69e>:9: SettingWithCopyWarning: \n",
      "A value is trying to be set on a copy of a slice from a DataFrame\n",
      "\n",
      "See the caveats in the documentation: https://pandas.pydata.org/pandas-docs/stable/user_guide/indexing.html#returning-a-view-versus-a-copy\n",
      "  godoy_df['Price'][i] = float(new_price)\n"
     ]
    }
   ],
   "source": [
    "# Pasaremos a float el precio de la casa (no pude con .map así que usé este método)\n",
    "import re\n",
    "for i in range(len(godoy_df.Price)):\n",
    "    new_price = \"\" \n",
    "    numbers = re.findall(r'\\d', godoy_df['Price'][i])\n",
    "    for j in numbers:\n",
    "        new_price += j\n",
    "    try:\n",
    "        godoy_df['Price'][i] = float(new_price)\n",
    "    except:\n",
    "        print(new_price)\n",
    "        \n",
    "godoy_df['Price'] = godoy_df['Price'].astype(float)"
   ]
  },
  {
   "cell_type": "code",
   "execution_count": 85,
   "id": "98964335",
   "metadata": {},
   "outputs": [
    {
     "name": "stdout",
     "output_type": "stream",
     "text": [
      "<class 'pandas.core.frame.DataFrame'>\n",
      "RangeIndex: 646 entries, 0 to 645\n",
      "Data columns (total 7 columns):\n",
      " #   Column      Non-Null Count  Dtype  \n",
      "---  ------      --------------  -----  \n",
      " 0   Country     646 non-null    object \n",
      " 1   Address     646 non-null    object \n",
      " 2   mts2        646 non-null    float64\n",
      " 3   mts2_house  646 non-null    float64\n",
      " 4   Bathrooms   646 non-null    int64  \n",
      " 5   Bedrooms    646 non-null    object \n",
      " 6   Price       646 non-null    float64\n",
      "dtypes: float64(3), int64(1), object(3)\n",
      "memory usage: 35.5+ KB\n"
     ]
    }
   ],
   "source": [
    "godoy_df.info()"
   ]
  },
  {
   "cell_type": "code",
   "execution_count": 86,
   "id": "261f301d",
   "metadata": {},
   "outputs": [
    {
     "data": {
      "text/html": [
       "<div>\n",
       "<style scoped>\n",
       "    .dataframe tbody tr th:only-of-type {\n",
       "        vertical-align: middle;\n",
       "    }\n",
       "\n",
       "    .dataframe tbody tr th {\n",
       "        vertical-align: top;\n",
       "    }\n",
       "\n",
       "    .dataframe thead th {\n",
       "        text-align: right;\n",
       "    }\n",
       "</style>\n",
       "<table border=\"1\" class=\"dataframe\">\n",
       "  <thead>\n",
       "    <tr style=\"text-align: right;\">\n",
       "      <th></th>\n",
       "      <th>Country</th>\n",
       "      <th>Address</th>\n",
       "      <th>mts2</th>\n",
       "      <th>mts2_house</th>\n",
       "      <th>Bathrooms</th>\n",
       "      <th>Bedrooms</th>\n",
       "      <th>Price</th>\n",
       "    </tr>\n",
       "  </thead>\n",
       "  <tbody>\n",
       "    <tr>\n",
       "      <th>262</th>\n",
       "      <td>Godoy Cruz</td>\n",
       "      <td>Mendoza</td>\n",
       "      <td>250.0</td>\n",
       "      <td>258.0</td>\n",
       "      <td>2</td>\n",
       "      <td>N</td>\n",
       "      <td>125000.0</td>\n",
       "    </tr>\n",
       "    <tr>\n",
       "      <th>263</th>\n",
       "      <td>Godoy Cruz</td>\n",
       "      <td>Mendoza</td>\n",
       "      <td>189.0</td>\n",
       "      <td>198.0</td>\n",
       "      <td>2</td>\n",
       "      <td>N</td>\n",
       "      <td>150000.0</td>\n",
       "    </tr>\n",
       "    <tr>\n",
       "      <th>372</th>\n",
       "      <td>Godoy Cruz</td>\n",
       "      <td>Mendoza</td>\n",
       "      <td>197.0</td>\n",
       "      <td>151.0</td>\n",
       "      <td>2</td>\n",
       "      <td>N</td>\n",
       "      <td>90000.0</td>\n",
       "    </tr>\n",
       "  </tbody>\n",
       "</table>\n",
       "</div>"
      ],
      "text/plain": [
       "        Country  Address   mts2  mts2_house  Bathrooms Bedrooms     Price\n",
       "262  Godoy Cruz  Mendoza  250.0       258.0          2        N  125000.0\n",
       "263  Godoy Cruz  Mendoza  189.0       198.0          2        N  150000.0\n",
       "372  Godoy Cruz  Mendoza  197.0       151.0          2        N   90000.0"
      ]
     },
     "execution_count": 86,
     "metadata": {},
     "output_type": "execute_result"
    }
   ],
   "source": [
    "# Veamos la razón por la cual Bedrooms no es una columna de números\n",
    "godoy_df[~godoy_df.Bedrooms.isin(['1','2','3','4','5','6','7','8', '9'])]"
   ]
  },
  {
   "cell_type": "code",
   "execution_count": 87,
   "id": "8070a7c7",
   "metadata": {},
   "outputs": [],
   "source": [
    "godoy_df = godoy_df[godoy_df.Bedrooms != 'N']"
   ]
  },
  {
   "cell_type": "code",
   "execution_count": 94,
   "id": "97d2d60d",
   "metadata": {},
   "outputs": [
    {
     "name": "stderr",
     "output_type": "stream",
     "text": [
      "<ipython-input-94-a074f0630ecb>:1: SettingWithCopyWarning: \n",
      "A value is trying to be set on a copy of a slice from a DataFrame.\n",
      "Try using .loc[row_indexer,col_indexer] = value instead\n",
      "\n",
      "See the caveats in the documentation: https://pandas.pydata.org/pandas-docs/stable/user_guide/indexing.html#returning-a-view-versus-a-copy\n",
      "  godoy_df['Bedrooms'] = godoy_df['Bedrooms'].astype(float)\n"
     ]
    }
   ],
   "source": [
    "godoy_df['Bedrooms'] = godoy_df['Bedrooms'].astype(float)"
   ]
  },
  {
   "cell_type": "code",
   "execution_count": 95,
   "id": "cf10756a",
   "metadata": {},
   "outputs": [
    {
     "name": "stdout",
     "output_type": "stream",
     "text": [
      "<class 'pandas.core.frame.DataFrame'>\n",
      "Int64Index: 643 entries, 0 to 645\n",
      "Data columns (total 7 columns):\n",
      " #   Column      Non-Null Count  Dtype  \n",
      "---  ------      --------------  -----  \n",
      " 0   Country     643 non-null    object \n",
      " 1   Address     643 non-null    object \n",
      " 2   mts2        643 non-null    float64\n",
      " 3   mts2_house  643 non-null    float64\n",
      " 4   Bathrooms   643 non-null    int64  \n",
      " 5   Bedrooms    643 non-null    float64\n",
      " 6   Price       643 non-null    float64\n",
      "dtypes: float64(4), int64(1), object(2)\n",
      "memory usage: 40.2+ KB\n"
     ]
    }
   ],
   "source": [
    "godoy_df.info()"
   ]
  },
  {
   "cell_type": "markdown",
   "id": "0042e2d1",
   "metadata": {},
   "source": [
    "<h1 style='color: green'>Análisis y unión de los 2 Dataframes</h1>"
   ]
  },
  {
   "cell_type": "code",
   "execution_count": 102,
   "id": "c6add86d",
   "metadata": {},
   "outputs": [],
   "source": [
    "mdza_df = pd.read_csv('mendoza.csv')"
   ]
  },
  {
   "cell_type": "code",
   "execution_count": 104,
   "id": "9207ae11",
   "metadata": {},
   "outputs": [
    {
     "data": {
      "text/html": [
       "<div>\n",
       "<style scoped>\n",
       "    .dataframe tbody tr th:only-of-type {\n",
       "        vertical-align: middle;\n",
       "    }\n",
       "\n",
       "    .dataframe tbody tr th {\n",
       "        vertical-align: top;\n",
       "    }\n",
       "\n",
       "    .dataframe thead th {\n",
       "        text-align: right;\n",
       "    }\n",
       "</style>\n",
       "<table border=\"1\" class=\"dataframe\">\n",
       "  <thead>\n",
       "    <tr style=\"text-align: right;\">\n",
       "      <th></th>\n",
       "      <th>Country</th>\n",
       "      <th>Address</th>\n",
       "      <th>mts2</th>\n",
       "      <th>mts2_house</th>\n",
       "      <th>Bathrooms</th>\n",
       "      <th>Bedrooms</th>\n",
       "      <th>Price</th>\n",
       "    </tr>\n",
       "  </thead>\n",
       "  <tbody>\n",
       "    <tr>\n",
       "      <th>0</th>\n",
       "      <td>Capital</td>\n",
       "      <td>Mendoza</td>\n",
       "      <td>300.0</td>\n",
       "      <td>175.0</td>\n",
       "      <td>3.0</td>\n",
       "      <td>3.0</td>\n",
       "      <td>215000.0</td>\n",
       "    </tr>\n",
       "    <tr>\n",
       "      <th>1</th>\n",
       "      <td>Capital</td>\n",
       "      <td>Mendoza</td>\n",
       "      <td>120.0</td>\n",
       "      <td>110.0</td>\n",
       "      <td>2.0</td>\n",
       "      <td>4.0</td>\n",
       "      <td>180000.0</td>\n",
       "    </tr>\n",
       "    <tr>\n",
       "      <th>2</th>\n",
       "      <td>Capital</td>\n",
       "      <td>Mendoza</td>\n",
       "      <td>143.0</td>\n",
       "      <td>200.0</td>\n",
       "      <td>4.0</td>\n",
       "      <td>4.0</td>\n",
       "      <td>150000.0</td>\n",
       "    </tr>\n",
       "    <tr>\n",
       "      <th>3</th>\n",
       "      <td>Capital</td>\n",
       "      <td>Mendoza</td>\n",
       "      <td>273.0</td>\n",
       "      <td>273.0</td>\n",
       "      <td>4.0</td>\n",
       "      <td>1.0</td>\n",
       "      <td>210000.0</td>\n",
       "    </tr>\n",
       "    <tr>\n",
       "      <th>4</th>\n",
       "      <td>Capital</td>\n",
       "      <td>Mendoza</td>\n",
       "      <td>596.0</td>\n",
       "      <td>308.0</td>\n",
       "      <td>4.0</td>\n",
       "      <td>4.0</td>\n",
       "      <td>340000.0</td>\n",
       "    </tr>\n",
       "    <tr>\n",
       "      <th>...</th>\n",
       "      <td>...</td>\n",
       "      <td>...</td>\n",
       "      <td>...</td>\n",
       "      <td>...</td>\n",
       "      <td>...</td>\n",
       "      <td>...</td>\n",
       "      <td>...</td>\n",
       "    </tr>\n",
       "    <tr>\n",
       "      <th>631</th>\n",
       "      <td>Capital</td>\n",
       "      <td>Mendoza</td>\n",
       "      <td>300.0</td>\n",
       "      <td>160.0</td>\n",
       "      <td>1.0</td>\n",
       "      <td>2.0</td>\n",
       "      <td>50000.0</td>\n",
       "    </tr>\n",
       "    <tr>\n",
       "      <th>632</th>\n",
       "      <td>Capital</td>\n",
       "      <td>Mendoza</td>\n",
       "      <td>283.0</td>\n",
       "      <td>216.0</td>\n",
       "      <td>3.0</td>\n",
       "      <td>4.0</td>\n",
       "      <td>155000.0</td>\n",
       "    </tr>\n",
       "    <tr>\n",
       "      <th>633</th>\n",
       "      <td>Capital</td>\n",
       "      <td>Mendoza</td>\n",
       "      <td>180.0</td>\n",
       "      <td>175.0</td>\n",
       "      <td>1.0</td>\n",
       "      <td>2.0</td>\n",
       "      <td>35000.0</td>\n",
       "    </tr>\n",
       "    <tr>\n",
       "      <th>634</th>\n",
       "      <td>Capital</td>\n",
       "      <td>Mendoza</td>\n",
       "      <td>170.0</td>\n",
       "      <td>120.0</td>\n",
       "      <td>1.0</td>\n",
       "      <td>2.0</td>\n",
       "      <td>39500.0</td>\n",
       "    </tr>\n",
       "    <tr>\n",
       "      <th>635</th>\n",
       "      <td>Capital</td>\n",
       "      <td>Mendoza</td>\n",
       "      <td>190.0</td>\n",
       "      <td>146.0</td>\n",
       "      <td>1.0</td>\n",
       "      <td>2.0</td>\n",
       "      <td>36000.0</td>\n",
       "    </tr>\n",
       "  </tbody>\n",
       "</table>\n",
       "<p>636 rows × 7 columns</p>\n",
       "</div>"
      ],
      "text/plain": [
       "     Country  Address   mts2  mts2_house  Bathrooms  Bedrooms     Price\n",
       "0    Capital  Mendoza  300.0       175.0        3.0       3.0  215000.0\n",
       "1    Capital  Mendoza  120.0       110.0        2.0       4.0  180000.0\n",
       "2    Capital  Mendoza  143.0       200.0        4.0       4.0  150000.0\n",
       "3    Capital  Mendoza  273.0       273.0        4.0       1.0  210000.0\n",
       "4    Capital  Mendoza  596.0       308.0        4.0       4.0  340000.0\n",
       "..       ...      ...    ...         ...        ...       ...       ...\n",
       "631  Capital  Mendoza  300.0       160.0        1.0       2.0   50000.0\n",
       "632  Capital  Mendoza  283.0       216.0        3.0       4.0  155000.0\n",
       "633  Capital  Mendoza  180.0       175.0        1.0       2.0   35000.0\n",
       "634  Capital  Mendoza  170.0       120.0        1.0       2.0   39500.0\n",
       "635  Capital  Mendoza  190.0       146.0        1.0       2.0   36000.0\n",
       "\n",
       "[636 rows x 7 columns]"
      ]
     },
     "execution_count": 104,
     "metadata": {},
     "output_type": "execute_result"
    }
   ],
   "source": [
    "mendoza_df = mdza_df.iloc[:,1:]\n",
    "mendoza_df"
   ]
  },
  {
   "cell_type": "code",
   "execution_count": 107,
   "id": "5d6fa279",
   "metadata": {},
   "outputs": [
    {
     "data": {
      "text/html": [
       "<div>\n",
       "<style scoped>\n",
       "    .dataframe tbody tr th:only-of-type {\n",
       "        vertical-align: middle;\n",
       "    }\n",
       "\n",
       "    .dataframe tbody tr th {\n",
       "        vertical-align: top;\n",
       "    }\n",
       "\n",
       "    .dataframe thead th {\n",
       "        text-align: right;\n",
       "    }\n",
       "</style>\n",
       "<table border=\"1\" class=\"dataframe\">\n",
       "  <thead>\n",
       "    <tr style=\"text-align: right;\">\n",
       "      <th></th>\n",
       "      <th>count</th>\n",
       "      <th>mean</th>\n",
       "      <th>std</th>\n",
       "      <th>min</th>\n",
       "      <th>25%</th>\n",
       "      <th>50%</th>\n",
       "      <th>75%</th>\n",
       "      <th>max</th>\n",
       "    </tr>\n",
       "  </thead>\n",
       "  <tbody>\n",
       "    <tr>\n",
       "      <th>mts2</th>\n",
       "      <td>643.0</td>\n",
       "      <td>287.009331</td>\n",
       "      <td>191.596839</td>\n",
       "      <td>60.0</td>\n",
       "      <td>197.5</td>\n",
       "      <td>230.0</td>\n",
       "      <td>315.0</td>\n",
       "      <td>1498.0</td>\n",
       "    </tr>\n",
       "    <tr>\n",
       "      <th>mts2_house</th>\n",
       "      <td>643.0</td>\n",
       "      <td>185.292379</td>\n",
       "      <td>93.998617</td>\n",
       "      <td>1.0</td>\n",
       "      <td>125.0</td>\n",
       "      <td>160.0</td>\n",
       "      <td>222.5</td>\n",
       "      <td>674.0</td>\n",
       "    </tr>\n",
       "    <tr>\n",
       "      <th>Bathrooms</th>\n",
       "      <td>643.0</td>\n",
       "      <td>2.185070</td>\n",
       "      <td>1.134956</td>\n",
       "      <td>1.0</td>\n",
       "      <td>1.0</td>\n",
       "      <td>2.0</td>\n",
       "      <td>3.0</td>\n",
       "      <td>8.0</td>\n",
       "    </tr>\n",
       "    <tr>\n",
       "      <th>Bedrooms</th>\n",
       "      <td>643.0</td>\n",
       "      <td>3.228616</td>\n",
       "      <td>0.933450</td>\n",
       "      <td>1.0</td>\n",
       "      <td>3.0</td>\n",
       "      <td>3.0</td>\n",
       "      <td>4.0</td>\n",
       "      <td>9.0</td>\n",
       "    </tr>\n",
       "    <tr>\n",
       "      <th>Price</th>\n",
       "      <td>643.0</td>\n",
       "      <td>181020.917574</td>\n",
       "      <td>631297.870596</td>\n",
       "      <td>15000.0</td>\n",
       "      <td>55000.0</td>\n",
       "      <td>80000.0</td>\n",
       "      <td>140000.0</td>\n",
       "      <td>7600000.0</td>\n",
       "    </tr>\n",
       "  </tbody>\n",
       "</table>\n",
       "</div>"
      ],
      "text/plain": [
       "            count           mean            std      min      25%      50%  \\\n",
       "mts2        643.0     287.009331     191.596839     60.0    197.5    230.0   \n",
       "mts2_house  643.0     185.292379      93.998617      1.0    125.0    160.0   \n",
       "Bathrooms   643.0       2.185070       1.134956      1.0      1.0      2.0   \n",
       "Bedrooms    643.0       3.228616       0.933450      1.0      3.0      3.0   \n",
       "Price       643.0  181020.917574  631297.870596  15000.0  55000.0  80000.0   \n",
       "\n",
       "                 75%        max  \n",
       "mts2           315.0     1498.0  \n",
       "mts2_house     222.5      674.0  \n",
       "Bathrooms        3.0        8.0  \n",
       "Bedrooms         4.0        9.0  \n",
       "Price       140000.0  7600000.0  "
      ]
     },
     "execution_count": 107,
     "metadata": {},
     "output_type": "execute_result"
    }
   ],
   "source": [
    "godoy_df.describe().T"
   ]
  },
  {
   "cell_type": "markdown",
   "id": "245e2a39",
   "metadata": {},
   "source": [
    "El precio medio de las casas es de 181,020 dólares. <br/>\n",
    "Las casas suelen tener 3 dormitorios y 2 baños.<br/>\n",
    "El terreno es de 280 mts2 de media y la casa de 185 mts2."
   ]
  },
  {
   "cell_type": "code",
   "execution_count": 108,
   "id": "92fc24ac",
   "metadata": {},
   "outputs": [
    {
     "data": {
      "text/html": [
       "<div>\n",
       "<style scoped>\n",
       "    .dataframe tbody tr th:only-of-type {\n",
       "        vertical-align: middle;\n",
       "    }\n",
       "\n",
       "    .dataframe tbody tr th {\n",
       "        vertical-align: top;\n",
       "    }\n",
       "\n",
       "    .dataframe thead th {\n",
       "        text-align: right;\n",
       "    }\n",
       "</style>\n",
       "<table border=\"1\" class=\"dataframe\">\n",
       "  <thead>\n",
       "    <tr style=\"text-align: right;\">\n",
       "      <th></th>\n",
       "      <th>count</th>\n",
       "      <th>mean</th>\n",
       "      <th>std</th>\n",
       "      <th>min</th>\n",
       "      <th>25%</th>\n",
       "      <th>50%</th>\n",
       "      <th>75%</th>\n",
       "      <th>max</th>\n",
       "    </tr>\n",
       "  </thead>\n",
       "  <tbody>\n",
       "    <tr>\n",
       "      <th>mts2</th>\n",
       "      <td>636.0</td>\n",
       "      <td>373.919811</td>\n",
       "      <td>282.855142</td>\n",
       "      <td>45.0</td>\n",
       "      <td>201.5</td>\n",
       "      <td>300.0</td>\n",
       "      <td>450.00</td>\n",
       "      <td>2875.0</td>\n",
       "    </tr>\n",
       "    <tr>\n",
       "      <th>mts2_house</th>\n",
       "      <td>636.0</td>\n",
       "      <td>237.566038</td>\n",
       "      <td>112.392340</td>\n",
       "      <td>45.0</td>\n",
       "      <td>160.0</td>\n",
       "      <td>216.0</td>\n",
       "      <td>295.25</td>\n",
       "      <td>840.0</td>\n",
       "    </tr>\n",
       "    <tr>\n",
       "      <th>Bathrooms</th>\n",
       "      <td>636.0</td>\n",
       "      <td>2.827044</td>\n",
       "      <td>1.146700</td>\n",
       "      <td>1.0</td>\n",
       "      <td>2.0</td>\n",
       "      <td>3.0</td>\n",
       "      <td>3.00</td>\n",
       "      <td>7.0</td>\n",
       "    </tr>\n",
       "    <tr>\n",
       "      <th>Bedrooms</th>\n",
       "      <td>636.0</td>\n",
       "      <td>3.512579</td>\n",
       "      <td>1.111783</td>\n",
       "      <td>1.0</td>\n",
       "      <td>3.0</td>\n",
       "      <td>3.0</td>\n",
       "      <td>4.00</td>\n",
       "      <td>9.0</td>\n",
       "    </tr>\n",
       "    <tr>\n",
       "      <th>Price</th>\n",
       "      <td>636.0</td>\n",
       "      <td>211649.500000</td>\n",
       "      <td>150641.399489</td>\n",
       "      <td>19000.0</td>\n",
       "      <td>95000.0</td>\n",
       "      <td>185000.0</td>\n",
       "      <td>280000.00</td>\n",
       "      <td>1200000.0</td>\n",
       "    </tr>\n",
       "  </tbody>\n",
       "</table>\n",
       "</div>"
      ],
      "text/plain": [
       "            count           mean            std      min      25%       50%  \\\n",
       "mts2        636.0     373.919811     282.855142     45.0    201.5     300.0   \n",
       "mts2_house  636.0     237.566038     112.392340     45.0    160.0     216.0   \n",
       "Bathrooms   636.0       2.827044       1.146700      1.0      2.0       3.0   \n",
       "Bedrooms    636.0       3.512579       1.111783      1.0      3.0       3.0   \n",
       "Price       636.0  211649.500000  150641.399489  19000.0  95000.0  185000.0   \n",
       "\n",
       "                  75%        max  \n",
       "mts2           450.00     2875.0  \n",
       "mts2_house     295.25      840.0  \n",
       "Bathrooms        3.00        7.0  \n",
       "Bedrooms         4.00        9.0  \n",
       "Price       280000.00  1200000.0  "
      ]
     },
     "execution_count": 108,
     "metadata": {},
     "output_type": "execute_result"
    }
   ],
   "source": [
    "mendoza_df.describe().T"
   ]
  },
  {
   "cell_type": "markdown",
   "id": "8c73a2e5",
   "metadata": {},
   "source": [
    "El precio medio de las casas es de 211,649 dólares. <br/>\n",
    "Las casas suelen tener 3 o 4 dormitorios y 2 o 3 baños.<br/>\n",
    "El terreno es de 373 mts2 de media y la casa de 237 mts2.<br/>\n",
    "<br/>\n",
    "Podemos ver que las casas son mas caras en Mendoza y suelen tener mas habitaciones y terreno."
   ]
  },
  {
   "cell_type": "code",
   "execution_count": 147,
   "id": "b5ce04fe",
   "metadata": {},
   "outputs": [
    {
     "data": {
      "text/plain": [
       "array([[<matplotlib.axes._subplots.AxesSubplot object at 0x0000027017B562E0>,\n",
       "        <matplotlib.axes._subplots.AxesSubplot object at 0x0000027017B35490>],\n",
       "       [<matplotlib.axes._subplots.AxesSubplot object at 0x0000027017B846A0>,\n",
       "        <matplotlib.axes._subplots.AxesSubplot object at 0x0000027017BAEDC0>],\n",
       "       [<matplotlib.axes._subplots.AxesSubplot object at 0x0000027017BE2520>,\n",
       "        <matplotlib.axes._subplots.AxesSubplot object at 0x0000027017C0ECD0>]],\n",
       "      dtype=object)"
      ]
     },
     "execution_count": 147,
     "metadata": {},
     "output_type": "execute_result"
    },
    {
     "data": {
      "image/png": "[encoded data removed]",
      "text/plain": [
       "<Figure size 1440x1440 with 6 Axes>"
      ]
     },
     "metadata": {
      "needs_background": "light"
     },
     "output_type": "display_data"
    }
   ],
   "source": [
    "%matplotlib inline\n",
    "\n",
    "# Se pueden observar algunos outlier de casas que valen mucho\n",
    "godoy_df = godoy_df[godoy_df.Price < 4000000]\n",
    "godoy_df = godoy_df[godoy_df.Price < 2500000.0]\n",
    "\n",
    "godoy_df.hist(bins=30, figsize=(20,20), color='b')"
   ]
  },
  {
   "cell_type": "code",
   "execution_count": 148,
   "id": "66c8a08b",
   "metadata": {},
   "outputs": [
    {
     "data": {
      "text/plain": [
       "array([[<matplotlib.axes._subplots.AxesSubplot object at 0x00000270117B4400>,\n",
       "        <matplotlib.axes._subplots.AxesSubplot object at 0x00000270116DD8E0>],\n",
       "       [<matplotlib.axes._subplots.AxesSubplot object at 0x00000270116EB7F0>,\n",
       "        <matplotlib.axes._subplots.AxesSubplot object at 0x00000270116724F0>],\n",
       "       [<matplotlib.axes._subplots.AxesSubplot object at 0x00000270115AA580>,\n",
       "        <matplotlib.axes._subplots.AxesSubplot object at 0x00000270117D1AC0>]],\n",
       "      dtype=object)"
      ]
     },
     "execution_count": 148,
     "metadata": {},
     "output_type": "execute_result"
    },
    {
     "data": {
      "image/png": "[encoded data removed]",
      "text/plain": [
       "<Figure size 1440x1440 with 6 Axes>"
      ]
     },
     "metadata": {
      "needs_background": "light"
     },
     "output_type": "display_data"
    }
   ],
   "source": [
    "mendoza_df.hist(bins=30, figsize=(20,20), color='violet')"
   ]
  },
  {
   "cell_type": "code",
   "execution_count": 149,
   "id": "13956cee",
   "metadata": {},
   "outputs": [],
   "source": [
    "# Unión de los dataframes\n",
    "all_df = pd.concat([godoy_df, mendoza_df], axis=0)"
   ]
  },
  {
   "cell_type": "code",
   "execution_count": 150,
   "id": "fcaa8740",
   "metadata": {},
   "outputs": [
    {
     "data": {
      "text/html": [
       "<div>\n",
       "<style scoped>\n",
       "    .dataframe tbody tr th:only-of-type {\n",
       "        vertical-align: middle;\n",
       "    }\n",
       "\n",
       "    .dataframe tbody tr th {\n",
       "        vertical-align: top;\n",
       "    }\n",
       "\n",
       "    .dataframe thead th {\n",
       "        text-align: right;\n",
       "    }\n",
       "</style>\n",
       "<table border=\"1\" class=\"dataframe\">\n",
       "  <thead>\n",
       "    <tr style=\"text-align: right;\">\n",
       "      <th></th>\n",
       "      <th>Country</th>\n",
       "      <th>Address</th>\n",
       "      <th>mts2</th>\n",
       "      <th>mts2_house</th>\n",
       "      <th>Bathrooms</th>\n",
       "      <th>Bedrooms</th>\n",
       "      <th>Price</th>\n",
       "    </tr>\n",
       "  </thead>\n",
       "  <tbody>\n",
       "    <tr>\n",
       "      <th>0</th>\n",
       "      <td>Godoy Cruz</td>\n",
       "      <td>Mendoza</td>\n",
       "      <td>200.0</td>\n",
       "      <td>112.0</td>\n",
       "      <td>2.0</td>\n",
       "      <td>3.0</td>\n",
       "      <td>70000.0</td>\n",
       "    </tr>\n",
       "    <tr>\n",
       "      <th>1</th>\n",
       "      <td>Godoy Cruz</td>\n",
       "      <td>Mendoza</td>\n",
       "      <td>277.0</td>\n",
       "      <td>347.0</td>\n",
       "      <td>4.0</td>\n",
       "      <td>5.0</td>\n",
       "      <td>140000.0</td>\n",
       "    </tr>\n",
       "    <tr>\n",
       "      <th>2</th>\n",
       "      <td>Godoy Cruz</td>\n",
       "      <td>Mendoza</td>\n",
       "      <td>282.0</td>\n",
       "      <td>186.0</td>\n",
       "      <td>3.0</td>\n",
       "      <td>3.0</td>\n",
       "      <td>116000.0</td>\n",
       "    </tr>\n",
       "    <tr>\n",
       "      <th>3</th>\n",
       "      <td>Godoy Cruz</td>\n",
       "      <td>Mendoza</td>\n",
       "      <td>112.0</td>\n",
       "      <td>76.0</td>\n",
       "      <td>1.0</td>\n",
       "      <td>2.0</td>\n",
       "      <td>73000.0</td>\n",
       "    </tr>\n",
       "    <tr>\n",
       "      <th>4</th>\n",
       "      <td>Godoy Cruz</td>\n",
       "      <td>Mendoza</td>\n",
       "      <td>197.0</td>\n",
       "      <td>151.0</td>\n",
       "      <td>2.0</td>\n",
       "      <td>3.0</td>\n",
       "      <td>90000.0</td>\n",
       "    </tr>\n",
       "    <tr>\n",
       "      <th>...</th>\n",
       "      <td>...</td>\n",
       "      <td>...</td>\n",
       "      <td>...</td>\n",
       "      <td>...</td>\n",
       "      <td>...</td>\n",
       "      <td>...</td>\n",
       "      <td>...</td>\n",
       "    </tr>\n",
       "    <tr>\n",
       "      <th>631</th>\n",
       "      <td>Capital</td>\n",
       "      <td>Mendoza</td>\n",
       "      <td>300.0</td>\n",
       "      <td>160.0</td>\n",
       "      <td>1.0</td>\n",
       "      <td>2.0</td>\n",
       "      <td>50000.0</td>\n",
       "    </tr>\n",
       "    <tr>\n",
       "      <th>632</th>\n",
       "      <td>Capital</td>\n",
       "      <td>Mendoza</td>\n",
       "      <td>283.0</td>\n",
       "      <td>216.0</td>\n",
       "      <td>3.0</td>\n",
       "      <td>4.0</td>\n",
       "      <td>155000.0</td>\n",
       "    </tr>\n",
       "    <tr>\n",
       "      <th>633</th>\n",
       "      <td>Capital</td>\n",
       "      <td>Mendoza</td>\n",
       "      <td>180.0</td>\n",
       "      <td>175.0</td>\n",
       "      <td>1.0</td>\n",
       "      <td>2.0</td>\n",
       "      <td>35000.0</td>\n",
       "    </tr>\n",
       "    <tr>\n",
       "      <th>634</th>\n",
       "      <td>Capital</td>\n",
       "      <td>Mendoza</td>\n",
       "      <td>170.0</td>\n",
       "      <td>120.0</td>\n",
       "      <td>1.0</td>\n",
       "      <td>2.0</td>\n",
       "      <td>39500.0</td>\n",
       "    </tr>\n",
       "    <tr>\n",
       "      <th>635</th>\n",
       "      <td>Capital</td>\n",
       "      <td>Mendoza</td>\n",
       "      <td>190.0</td>\n",
       "      <td>146.0</td>\n",
       "      <td>1.0</td>\n",
       "      <td>2.0</td>\n",
       "      <td>36000.0</td>\n",
       "    </tr>\n",
       "  </tbody>\n",
       "</table>\n",
       "<p>1273 rows × 7 columns</p>\n",
       "</div>"
      ],
      "text/plain": [
       "        Country  Address   mts2  mts2_house  Bathrooms  Bedrooms     Price\n",
       "0    Godoy Cruz  Mendoza  200.0       112.0        2.0       3.0   70000.0\n",
       "1    Godoy Cruz  Mendoza  277.0       347.0        4.0       5.0  140000.0\n",
       "2    Godoy Cruz  Mendoza  282.0       186.0        3.0       3.0  116000.0\n",
       "3    Godoy Cruz  Mendoza  112.0        76.0        1.0       2.0   73000.0\n",
       "4    Godoy Cruz  Mendoza  197.0       151.0        2.0       3.0   90000.0\n",
       "..          ...      ...    ...         ...        ...       ...       ...\n",
       "631     Capital  Mendoza  300.0       160.0        1.0       2.0   50000.0\n",
       "632     Capital  Mendoza  283.0       216.0        3.0       4.0  155000.0\n",
       "633     Capital  Mendoza  180.0       175.0        1.0       2.0   35000.0\n",
       "634     Capital  Mendoza  170.0       120.0        1.0       2.0   39500.0\n",
       "635     Capital  Mendoza  190.0       146.0        1.0       2.0   36000.0\n",
       "\n",
       "[1273 rows x 7 columns]"
      ]
     },
     "execution_count": 150,
     "metadata": {},
     "output_type": "execute_result"
    }
   ],
   "source": [
    "# El dataset ha quedado bastante balanceado, ya que hay muentras de 600 casas aprox de cada una de las ciudades\n",
    "all_df"
   ]
  },
  {
   "cell_type": "code",
   "execution_count": 151,
   "id": "572ac691",
   "metadata": {},
   "outputs": [
    {
     "data": {
      "text/plain": [
       "<matplotlib.axes._subplots.AxesSubplot at 0x27011688820>"
      ]
     },
     "execution_count": 151,
     "metadata": {},
     "output_type": "execute_result"
    },
    {
     "data": {
      "image/png": "[encoded data removed]",
      "text/plain": [
       "<Figure size 1440x1440 with 2 Axes>"
      ]
     },
     "metadata": {
      "needs_background": "light"
     },
     "output_type": "display_data"
    }
   ],
   "source": [
    "corr = all_df.corr()\n",
    "f, ax = plt.subplots(figsize = (20,20))\n",
    "sns.heatmap(corr, annot = True)"
   ]
  },
  {
   "cell_type": "markdown",
   "id": "788eaf5a",
   "metadata": {},
   "source": [
    "Hay correlaciones muy fuertes en el dataset los metros cuadrados de la casa y del terreno son dos características <br/>\n",
    "muy correlacionadas y a la vez son parecias, se puede quizas hacer una \"fusión\" de ellas 2 y crear un dataset con<br/>\n",
    "menos características y dimensiones. <br>\n",
    "<br>\n",
    "El Análisis de Componentes principales puede ser aplicado reduciendo las dimensiones y explicando la varianza del dataset en quizás 2 componentes."
   ]
  },
  {
   "cell_type": "code",
   "execution_count": 185,
   "id": "e59f25f8",
   "metadata": {},
   "outputs": [
    {
     "data": {
      "image/png": "[encoded data removed]",
      "text/plain": [
       "<Figure size 576x360 with 1 Axes>"
      ]
     },
     "metadata": {
      "needs_background": "light"
     },
     "output_type": "display_data"
    }
   ],
   "source": [
    "# Relación entre superficie y precio\n",
    "f, ax = plt.subplots(figsize = (8,5))\n",
    "plt.scatter(x='mts2', y='Price', data=mendoza_df, color='violet', alpha=0.8)\n",
    "plt.scatter(x='mts2', y='Price', data=godoy_df, color='b', alpha=0.3)\n",
    "plt.title('Precio de las casas x Mts2 de totales')\n",
    "plt.legend(['Mendoza','Godoy Cruz'])\n",
    "plt.show()"
   ]
  },
  {
   "cell_type": "code",
   "execution_count": 186,
   "id": "e6cdd91e",
   "metadata": {},
   "outputs": [
    {
     "data": {
      "image/png": "[encoded data removed]",
      "text/plain": [
       "<Figure size 576x360 with 1 Axes>"
      ]
     },
     "metadata": {
      "needs_background": "light"
     },
     "output_type": "display_data"
    }
   ],
   "source": [
    "# Relación entre tamaño de la casa y precio\n",
    "f, ax = plt.subplots(figsize = (8,5))\n",
    "plt.scatter(x='mts2_house', y='Price', data=mendoza_df, color='violet', alpha=0.8)\n",
    "plt.scatter(x='mts2_house', y='Price', data=godoy_df, color='b', alpha=0.3)\n",
    "plt.legend(['Mendoza','Godoy Cruz'])\n",
    "plt.title('Precio de las casas x Mts2 de la casa')\n",
    "plt.show()"
   ]
  },
  {
   "cell_type": "code",
   "execution_count": 176,
   "id": "0c56f2a0",
   "metadata": {},
   "outputs": [
    {
     "data": {
      "image/png": "[encoded data removed]",
      "text/plain": [
       "<Figure size 576x360 with 1 Axes>"
      ]
     },
     "metadata": {
      "needs_background": "light"
     },
     "output_type": "display_data"
    }
   ],
   "source": [
    "# Distribución de precio segun los dormitorios\n",
    "f, ax = plt.subplots(figsize = (8,5))\n",
    "sns.barplot(x='Bedrooms', y='Price', data=all_df)\n",
    "plt.show()"
   ]
  },
  {
   "cell_type": "code",
   "execution_count": 178,
   "id": "8a250b9c",
   "metadata": {},
   "outputs": [
    {
     "data": {
      "image/png": "[encoded data removed]",
      "text/plain": [
       "<Figure size 576x360 with 1 Axes>"
      ]
     },
     "metadata": {
      "needs_background": "light"
     },
     "output_type": "display_data"
    }
   ],
   "source": [
    "# Distribución de precio segun los baños\n",
    "f, ax = plt.subplots(figsize = (8,5))\n",
    "sns.barplot(x='Bathrooms', y='Price', data=all_df)\n",
    "plt.show()\n",
    "\n",
    "# La cantidad de baños suele estar muy ligado al precio\n",
    "# Es raro que las casas con 8 baños balgan poco"
   ]
  },
  {
   "cell_type": "markdown",
   "id": "07b1a0f9",
   "metadata": {},
   "source": [
    "<h1 style='color: green'>Modelado (Machine Learning & Deep Learning)</h1>"
   ]
  },
  {
   "cell_type": "code",
   "execution_count": 199,
   "id": "5b2012c5",
   "metadata": {},
   "outputs": [],
   "source": [
    "#all_df.to_csv('all_data.csv', index=False)"
   ]
  },
  {
   "cell_type": "code",
   "execution_count": 206,
   "id": "d1efed4a",
   "metadata": {},
   "outputs": [],
   "source": [
    "all_df = all_df.reset_index()\n",
    "all_df.head()"
   ]
  },
  {
   "cell_type": "markdown",
   "id": "0dbda22e",
   "metadata": {},
   "source": [
    "Onehot Encoder para variables categóricas."
   ]
  },
  {
   "cell_type": "code",
   "execution_count": 214,
   "id": "6616e621",
   "metadata": {},
   "outputs": [
    {
     "data": {
      "text/html": [
       "<div>\n",
       "<style scoped>\n",
       "    .dataframe tbody tr th:only-of-type {\n",
       "        vertical-align: middle;\n",
       "    }\n",
       "\n",
       "    .dataframe tbody tr th {\n",
       "        vertical-align: top;\n",
       "    }\n",
       "\n",
       "    .dataframe thead th {\n",
       "        text-align: right;\n",
       "    }\n",
       "</style>\n",
       "<table border=\"1\" class=\"dataframe\">\n",
       "  <thead>\n",
       "    <tr style=\"text-align: right;\">\n",
       "      <th></th>\n",
       "      <th>Country</th>\n",
       "    </tr>\n",
       "  </thead>\n",
       "  <tbody>\n",
       "    <tr>\n",
       "      <th>0</th>\n",
       "      <td>Godoy Cruz</td>\n",
       "    </tr>\n",
       "    <tr>\n",
       "      <th>1</th>\n",
       "      <td>Godoy Cruz</td>\n",
       "    </tr>\n",
       "    <tr>\n",
       "      <th>2</th>\n",
       "      <td>Godoy Cruz</td>\n",
       "    </tr>\n",
       "    <tr>\n",
       "      <th>3</th>\n",
       "      <td>Godoy Cruz</td>\n",
       "    </tr>\n",
       "    <tr>\n",
       "      <th>4</th>\n",
       "      <td>Godoy Cruz</td>\n",
       "    </tr>\n",
       "  </tbody>\n",
       "</table>\n",
       "</div>"
      ],
      "text/plain": [
       "      Country\n",
       "0  Godoy Cruz\n",
       "1  Godoy Cruz\n",
       "2  Godoy Cruz\n",
       "3  Godoy Cruz\n",
       "4  Godoy Cruz"
      ]
     },
     "execution_count": 214,
     "metadata": {},
     "output_type": "execute_result"
    }
   ],
   "source": [
    "categorical_features = all_df[['Country']]\n",
    "\n",
    "categorical_features.head()"
   ]
  },
  {
   "cell_type": "code",
   "execution_count": 215,
   "id": "cfbe7fe8",
   "metadata": {},
   "outputs": [],
   "source": [
    "#Tratamiento para datos categóricos\n",
    "from sklearn.preprocessing import OneHotEncoder\n",
    "ohe = OneHotEncoder()\n",
    "categorical_features = ohe.fit_transform(categorical_features).toarray()"
   ]
  },
  {
   "cell_type": "code",
   "execution_count": 216,
   "id": "9c9bf526",
   "metadata": {},
   "outputs": [
    {
     "data": {
      "text/html": [
       "<div>\n",
       "<style scoped>\n",
       "    .dataframe tbody tr th:only-of-type {\n",
       "        vertical-align: middle;\n",
       "    }\n",
       "\n",
       "    .dataframe tbody tr th {\n",
       "        vertical-align: top;\n",
       "    }\n",
       "\n",
       "    .dataframe thead th {\n",
       "        text-align: right;\n",
       "    }\n",
       "</style>\n",
       "<table border=\"1\" class=\"dataframe\">\n",
       "  <thead>\n",
       "    <tr style=\"text-align: right;\">\n",
       "      <th></th>\n",
       "      <th>0</th>\n",
       "      <th>1</th>\n",
       "    </tr>\n",
       "  </thead>\n",
       "  <tbody>\n",
       "    <tr>\n",
       "      <th>0</th>\n",
       "      <td>0.0</td>\n",
       "      <td>1.0</td>\n",
       "    </tr>\n",
       "    <tr>\n",
       "      <th>1</th>\n",
       "      <td>0.0</td>\n",
       "      <td>1.0</td>\n",
       "    </tr>\n",
       "    <tr>\n",
       "      <th>2</th>\n",
       "      <td>0.0</td>\n",
       "      <td>1.0</td>\n",
       "    </tr>\n",
       "    <tr>\n",
       "      <th>3</th>\n",
       "      <td>0.0</td>\n",
       "      <td>1.0</td>\n",
       "    </tr>\n",
       "    <tr>\n",
       "      <th>4</th>\n",
       "      <td>0.0</td>\n",
       "      <td>1.0</td>\n",
       "    </tr>\n",
       "  </tbody>\n",
       "</table>\n",
       "</div>"
      ],
      "text/plain": [
       "     0    1\n",
       "0  0.0  1.0\n",
       "1  0.0  1.0\n",
       "2  0.0  1.0\n",
       "3  0.0  1.0\n",
       "4  0.0  1.0"
      ]
     },
     "execution_count": 216,
     "metadata": {},
     "output_type": "execute_result"
    }
   ],
   "source": [
    "categorical_features = pd.DataFrame(categorical_features)\n",
    "categorical_features.head()"
   ]
  },
  {
   "cell_type": "markdown",
   "id": "60611aa9",
   "metadata": {},
   "source": [
    "Escalado para variables numéricas"
   ]
  },
  {
   "cell_type": "code",
   "execution_count": 217,
   "id": "06cc3cd4",
   "metadata": {},
   "outputs": [
    {
     "data": {
      "text/html": [
       "<div>\n",
       "<style scoped>\n",
       "    .dataframe tbody tr th:only-of-type {\n",
       "        vertical-align: middle;\n",
       "    }\n",
       "\n",
       "    .dataframe tbody tr th {\n",
       "        vertical-align: top;\n",
       "    }\n",
       "\n",
       "    .dataframe thead th {\n",
       "        text-align: right;\n",
       "    }\n",
       "</style>\n",
       "<table border=\"1\" class=\"dataframe\">\n",
       "  <thead>\n",
       "    <tr style=\"text-align: right;\">\n",
       "      <th></th>\n",
       "      <th>mts2</th>\n",
       "      <th>mts2_house</th>\n",
       "      <th>Bathrooms</th>\n",
       "      <th>Bedrooms</th>\n",
       "    </tr>\n",
       "  </thead>\n",
       "  <tbody>\n",
       "    <tr>\n",
       "      <th>0</th>\n",
       "      <td>200.0</td>\n",
       "      <td>112.0</td>\n",
       "      <td>2.0</td>\n",
       "      <td>3.0</td>\n",
       "    </tr>\n",
       "    <tr>\n",
       "      <th>1</th>\n",
       "      <td>277.0</td>\n",
       "      <td>347.0</td>\n",
       "      <td>4.0</td>\n",
       "      <td>5.0</td>\n",
       "    </tr>\n",
       "    <tr>\n",
       "      <th>2</th>\n",
       "      <td>282.0</td>\n",
       "      <td>186.0</td>\n",
       "      <td>3.0</td>\n",
       "      <td>3.0</td>\n",
       "    </tr>\n",
       "    <tr>\n",
       "      <th>3</th>\n",
       "      <td>112.0</td>\n",
       "      <td>76.0</td>\n",
       "      <td>1.0</td>\n",
       "      <td>2.0</td>\n",
       "    </tr>\n",
       "    <tr>\n",
       "      <th>4</th>\n",
       "      <td>197.0</td>\n",
       "      <td>151.0</td>\n",
       "      <td>2.0</td>\n",
       "      <td>3.0</td>\n",
       "    </tr>\n",
       "  </tbody>\n",
       "</table>\n",
       "</div>"
      ],
      "text/plain": [
       "    mts2  mts2_house  Bathrooms  Bedrooms\n",
       "0  200.0       112.0        2.0       3.0\n",
       "1  277.0       347.0        4.0       5.0\n",
       "2  282.0       186.0        3.0       3.0\n",
       "3  112.0        76.0        1.0       2.0\n",
       "4  197.0       151.0        2.0       3.0"
      ]
     },
     "execution_count": 217,
     "metadata": {},
     "output_type": "execute_result"
    }
   ],
   "source": [
    "numerical_features = all_df[['mts2', 'mts2_house', 'Bathrooms', 'Bedrooms']]\n",
    "\n",
    "numerical_features.head()"
   ]
  },
  {
   "cell_type": "code",
   "execution_count": 218,
   "id": "93b1cf8a",
   "metadata": {},
   "outputs": [],
   "source": [
    "X = pd.concat([categorical_features,numerical_features], axis=1)"
   ]
  },
  {
   "cell_type": "code",
   "execution_count": 221,
   "id": "bf29dcd6",
   "metadata": {},
   "outputs": [],
   "source": [
    "X = X.iloc[:,1:]"
   ]
  },
  {
   "cell_type": "code",
   "execution_count": 222,
   "id": "8f54c758",
   "metadata": {},
   "outputs": [
    {
     "data": {
      "text/html": [
       "<div>\n",
       "<style scoped>\n",
       "    .dataframe tbody tr th:only-of-type {\n",
       "        vertical-align: middle;\n",
       "    }\n",
       "\n",
       "    .dataframe tbody tr th {\n",
       "        vertical-align: top;\n",
       "    }\n",
       "\n",
       "    .dataframe thead th {\n",
       "        text-align: right;\n",
       "    }\n",
       "</style>\n",
       "<table border=\"1\" class=\"dataframe\">\n",
       "  <thead>\n",
       "    <tr style=\"text-align: right;\">\n",
       "      <th></th>\n",
       "      <th>1</th>\n",
       "      <th>mts2</th>\n",
       "      <th>mts2_house</th>\n",
       "      <th>Bathrooms</th>\n",
       "      <th>Bedrooms</th>\n",
       "    </tr>\n",
       "  </thead>\n",
       "  <tbody>\n",
       "    <tr>\n",
       "      <th>0</th>\n",
       "      <td>1.0</td>\n",
       "      <td>200.0</td>\n",
       "      <td>112.0</td>\n",
       "      <td>2.0</td>\n",
       "      <td>3.0</td>\n",
       "    </tr>\n",
       "    <tr>\n",
       "      <th>1</th>\n",
       "      <td>1.0</td>\n",
       "      <td>277.0</td>\n",
       "      <td>347.0</td>\n",
       "      <td>4.0</td>\n",
       "      <td>5.0</td>\n",
       "    </tr>\n",
       "    <tr>\n",
       "      <th>2</th>\n",
       "      <td>1.0</td>\n",
       "      <td>282.0</td>\n",
       "      <td>186.0</td>\n",
       "      <td>3.0</td>\n",
       "      <td>3.0</td>\n",
       "    </tr>\n",
       "    <tr>\n",
       "      <th>3</th>\n",
       "      <td>1.0</td>\n",
       "      <td>112.0</td>\n",
       "      <td>76.0</td>\n",
       "      <td>1.0</td>\n",
       "      <td>2.0</td>\n",
       "    </tr>\n",
       "    <tr>\n",
       "      <th>4</th>\n",
       "      <td>1.0</td>\n",
       "      <td>197.0</td>\n",
       "      <td>151.0</td>\n",
       "      <td>2.0</td>\n",
       "      <td>3.0</td>\n",
       "    </tr>\n",
       "  </tbody>\n",
       "</table>\n",
       "</div>"
      ],
      "text/plain": [
       "     1   mts2  mts2_house  Bathrooms  Bedrooms\n",
       "0  1.0  200.0       112.0        2.0       3.0\n",
       "1  1.0  277.0       347.0        4.0       5.0\n",
       "2  1.0  282.0       186.0        3.0       3.0\n",
       "3  1.0  112.0        76.0        1.0       2.0\n",
       "4  1.0  197.0       151.0        2.0       3.0"
      ]
     },
     "execution_count": 222,
     "metadata": {},
     "output_type": "execute_result"
    }
   ],
   "source": [
    "X.head()"
   ]
  },
  {
   "cell_type": "code",
   "execution_count": 223,
   "id": "66f28576",
   "metadata": {},
   "outputs": [
    {
     "name": "stderr",
     "output_type": "stream",
     "text": [
      "C:\\Users\\HP\\anaconda3\\envs\\deepenv\\lib\\site-packages\\sklearn\\utils\\validation.py:1858: FutureWarning: Feature names only support names that are all strings. Got feature names with dtypes: ['int', 'str']. An error will be raised in 1.2.\n",
      "  warnings.warn(\n",
      "C:\\Users\\HP\\anaconda3\\envs\\deepenv\\lib\\site-packages\\sklearn\\utils\\validation.py:1858: FutureWarning: Feature names only support names that are all strings. Got feature names with dtypes: ['int', 'str']. An error will be raised in 1.2.\n",
      "  warnings.warn(\n"
     ]
    }
   ],
   "source": [
    "# Escalado de variables\n",
    "from sklearn.preprocessing import MinMaxScaler\n",
    "scaler = MinMaxScaler()\n",
    "\n",
    "X = scaler.fit_transform(X)"
   ]
  },
  {
   "cell_type": "code",
   "execution_count": 224,
   "id": "be69a6aa",
   "metadata": {},
   "outputs": [
    {
     "data": {
      "text/plain": [
       "0        70000.0\n",
       "1       140000.0\n",
       "2       116000.0\n",
       "3        73000.0\n",
       "4        90000.0\n",
       "          ...   \n",
       "1268     50000.0\n",
       "1269    155000.0\n",
       "1270     35000.0\n",
       "1271     39500.0\n",
       "1272     36000.0\n",
       "Name: Price, Length: 1273, dtype: float64"
      ]
     },
     "execution_count": 224,
     "metadata": {},
     "output_type": "execute_result"
    }
   ],
   "source": [
    "y = all_df['Price']\n",
    "y"
   ]
  },
  {
   "cell_type": "code",
   "execution_count": 225,
   "id": "ea98415a",
   "metadata": {},
   "outputs": [],
   "source": [
    "# Mezclamos los datos asi no estan los de godoy cruz arriba y los de mendoza abajo\n",
    "from sklearn.utils import shuffle\n",
    "\n",
    "X, y = shuffle(X, y)"
   ]
  },
  {
   "cell_type": "code",
   "execution_count": 226,
   "id": "dd58e08f",
   "metadata": {},
   "outputs": [],
   "source": [
    "from sklearn.model_selection import train_test_split\n",
    "X_train, X_test, y_train, y_test = train_test_split(X, y, test_size=1/4)"
   ]
  },
  {
   "cell_type": "markdown",
   "id": "e918b9a7",
   "metadata": {},
   "source": [
    "<h1 style='color: green'>Modelos Lineales múltiples</h1> <br>\n",
    "63% de precisión con regresion lineal múltiple"
   ]
  },
  {
   "cell_type": "code",
   "execution_count": 227,
   "id": "7b6c242a",
   "metadata": {},
   "outputs": [],
   "source": [
    "# Creación del modelo de Regresión Lineal Simple\n",
    "from sklearn.linear_model import LinearRegression\n",
    "\n",
    "reg = LinearRegression().fit(X_train, y_train)\n",
    "\n",
    "\n",
    "# Predecir el conjunto de Test\n",
    "y_pred = reg.predict(X_test)"
   ]
  },
  {
   "cell_type": "code",
   "execution_count": 228,
   "id": "eddc809f",
   "metadata": {},
   "outputs": [
    {
     "data": {
      "text/plain": [
       "0.6305267433540098"
      ]
     },
     "execution_count": 228,
     "metadata": {},
     "output_type": "execute_result"
    }
   ],
   "source": [
    "reg.score(X_test, y_test)"
   ]
  },
  {
   "cell_type": "code",
   "execution_count": 252,
   "id": "7be3227b",
   "metadata": {},
   "outputs": [],
   "source": [
    "scaler_y = MinMaxScaler()\n",
    "y_scaled = y.values.reshape(-1,1)\n",
    "y_scaled = scaler_y.fit_transform(y_scaled)"
   ]
  },
  {
   "cell_type": "code",
   "execution_count": 253,
   "id": "8ed73e69",
   "metadata": {},
   "outputs": [],
   "source": [
    "from sklearn.model_selection import train_test_split\n",
    "X_train, X_test, y_train, y_test = train_test_split(X, y_scaled, test_size=1/4)"
   ]
  },
  {
   "cell_type": "code",
   "execution_count": 349,
   "id": "88fe6e26",
   "metadata": {},
   "outputs": [
    {
     "name": "stdout",
     "output_type": "stream",
     "text": [
      "Model: \"sequential_9\"\n",
      "_________________________________________________________________\n",
      " Layer (type)                Output Shape              Param #   \n",
      "=================================================================\n",
      " dense_29 (Dense)            (None, 64)                384       \n",
      "                                                                 \n",
      " dense_30 (Dense)            (None, 64)                4160      \n",
      "                                                                 \n",
      " dense_31 (Dense)            (None, 1)                 65        \n",
      "                                                                 \n",
      "=================================================================\n",
      "Total params: 4,609\n",
      "Trainable params: 4,609\n",
      "Non-trainable params: 0\n",
      "_________________________________________________________________\n"
     ]
    }
   ],
   "source": [
    "import tensorflow as tf\n",
    "\n",
    "##Definiendo Modelo\n",
    "model = tf.keras.models.Sequential()\n",
    "model.add(tf.keras.layers.Dense(units=64, activation='relu',input_shape=(5,)))\n",
    "model.add(tf.keras.layers.Dense(units=64, activation='relu'))\n",
    "model.add(tf.keras.layers.Dense(units=1))\n",
    "\n",
    "model.summary()\n",
    "\n",
    "model.compile(optimizer='RMSprop', loss='mean_squared_error', metrics=['mae', 'mse'])\n"
   ]
  },
  {
   "cell_type": "code",
   "execution_count": 350,
   "id": "7f3e0795",
   "metadata": {},
   "outputs": [
    {
     "name": "stdout",
     "output_type": "stream",
     "text": [
      "Epoch 1/100\n",
      "16/16 [==============================] - 2s 26ms/step - loss: 0.0084 - mae: 0.0599 - mse: 0.0084 - val_loss: 0.0079 - val_mae: 0.0543 - val_mse: 0.0079\n",
      "Epoch 2/100\n",
      "16/16 [==============================] - 0s 7ms/step - loss: 0.0055 - mae: 0.0506 - mse: 0.0055 - val_loss: 0.0080 - val_mae: 0.0556 - val_mse: 0.0080\n",
      "Epoch 3/100\n",
      "16/16 [==============================] - 0s 6ms/step - loss: 0.0053 - mae: 0.0498 - mse: 0.0053 - val_loss: 0.0076 - val_mae: 0.0607 - val_mse: 0.0076\n",
      "Epoch 4/100\n",
      "16/16 [==============================] - 0s 7ms/step - loss: 0.0051 - mae: 0.0501 - mse: 0.0051 - val_loss: 0.0122 - val_mae: 0.0794 - val_mse: 0.0122\n",
      "Epoch 5/100\n",
      "16/16 [==============================] - 0s 7ms/step - loss: 0.0051 - mae: 0.0496 - mse: 0.0051 - val_loss: 0.0085 - val_mae: 0.0672 - val_mse: 0.0085\n",
      "Epoch 6/100\n",
      "16/16 [==============================] - 0s 7ms/step - loss: 0.0046 - mae: 0.0472 - mse: 0.0046 - val_loss: 0.0079 - val_mae: 0.0579 - val_mse: 0.0079\n",
      "Epoch 7/100\n",
      "16/16 [==============================] - 0s 6ms/step - loss: 0.0049 - mae: 0.0483 - mse: 0.0049 - val_loss: 0.0064 - val_mae: 0.0502 - val_mse: 0.0064\n",
      "Epoch 8/100\n",
      "16/16 [==============================] - 0s 6ms/step - loss: 0.0046 - mae: 0.0470 - mse: 0.0046 - val_loss: 0.0085 - val_mae: 0.0653 - val_mse: 0.0085\n",
      "Epoch 9/100\n",
      "16/16 [==============================] - 0s 7ms/step - loss: 0.0045 - mae: 0.0455 - mse: 0.0045 - val_loss: 0.0061 - val_mae: 0.0482 - val_mse: 0.0061\n",
      "Epoch 10/100\n",
      "16/16 [==============================] - 0s 6ms/step - loss: 0.0044 - mae: 0.0452 - mse: 0.0044 - val_loss: 0.0088 - val_mae: 0.0661 - val_mse: 0.0088\n",
      "Epoch 11/100\n",
      "16/16 [==============================] - 0s 11ms/step - loss: 0.0045 - mae: 0.0468 - mse: 0.0045 - val_loss: 0.0063 - val_mae: 0.0491 - val_mse: 0.0063\n",
      "Epoch 12/100\n",
      "16/16 [==============================] - 0s 8ms/step - loss: 0.0044 - mae: 0.0454 - mse: 0.0044 - val_loss: 0.0074 - val_mae: 0.0524 - val_mse: 0.0074\n",
      "Epoch 13/100\n",
      "16/16 [==============================] - 0s 7ms/step - loss: 0.0045 - mae: 0.0459 - mse: 0.0045 - val_loss: 0.0063 - val_mae: 0.0496 - val_mse: 0.0063\n",
      "Epoch 14/100\n",
      "16/16 [==============================] - 0s 6ms/step - loss: 0.0044 - mae: 0.0459 - mse: 0.0044 - val_loss: 0.0079 - val_mae: 0.0599 - val_mse: 0.0079\n",
      "Epoch 15/100\n",
      "16/16 [==============================] - 0s 6ms/step - loss: 0.0044 - mae: 0.0457 - mse: 0.0044 - val_loss: 0.0073 - val_mae: 0.0548 - val_mse: 0.0073\n",
      "Epoch 16/100\n",
      "16/16 [==============================] - 0s 7ms/step - loss: 0.0045 - mae: 0.0462 - mse: 0.0045 - val_loss: 0.0090 - val_mae: 0.0682 - val_mse: 0.0090\n",
      "Epoch 17/100\n",
      "16/16 [==============================] - 0s 7ms/step - loss: 0.0040 - mae: 0.0448 - mse: 0.0040 - val_loss: 0.0069 - val_mae: 0.0544 - val_mse: 0.0069\n",
      "Epoch 18/100\n",
      "16/16 [==============================] - 0s 6ms/step - loss: 0.0044 - mae: 0.0465 - mse: 0.0044 - val_loss: 0.0067 - val_mae: 0.0512 - val_mse: 0.0067\n",
      "Epoch 19/100\n",
      "16/16 [==============================] - 0s 7ms/step - loss: 0.0041 - mae: 0.0447 - mse: 0.0041 - val_loss: 0.0076 - val_mae: 0.0515 - val_mse: 0.0076\n",
      "Epoch 20/100\n",
      "16/16 [==============================] - 0s 6ms/step - loss: 0.0047 - mae: 0.0477 - mse: 0.0047 - val_loss: 0.0063 - val_mae: 0.0502 - val_mse: 0.0063\n",
      "Epoch 21/100\n",
      "16/16 [==============================] - 0s 7ms/step - loss: 0.0039 - mae: 0.0425 - mse: 0.0039 - val_loss: 0.0072 - val_mae: 0.0571 - val_mse: 0.0072\n",
      "Epoch 22/100\n",
      "16/16 [==============================] - 0s 7ms/step - loss: 0.0046 - mae: 0.0482 - mse: 0.0046 - val_loss: 0.0069 - val_mae: 0.0510 - val_mse: 0.0069\n",
      "Epoch 23/100\n",
      "16/16 [==============================] - 0s 6ms/step - loss: 0.0045 - mae: 0.0457 - mse: 0.0045 - val_loss: 0.0084 - val_mae: 0.0635 - val_mse: 0.0084\n",
      "Epoch 24/100\n",
      "16/16 [==============================] - 0s 7ms/step - loss: 0.0041 - mae: 0.0440 - mse: 0.0041 - val_loss: 0.0065 - val_mae: 0.0517 - val_mse: 0.0065\n",
      "Epoch 25/100\n",
      "16/16 [==============================] - 0s 7ms/step - loss: 0.0043 - mae: 0.0445 - mse: 0.0043 - val_loss: 0.0066 - val_mae: 0.0516 - val_mse: 0.0066\n",
      "Epoch 26/100\n",
      "16/16 [==============================] - 0s 7ms/step - loss: 0.0044 - mae: 0.0452 - mse: 0.0044 - val_loss: 0.0066 - val_mae: 0.0479 - val_mse: 0.0066\n",
      "Epoch 27/100\n",
      "16/16 [==============================] - 0s 6ms/step - loss: 0.0040 - mae: 0.0436 - mse: 0.0040 - val_loss: 0.0069 - val_mae: 0.0520 - val_mse: 0.0069\n",
      "Epoch 28/100\n",
      "16/16 [==============================] - 0s 7ms/step - loss: 0.0039 - mae: 0.0437 - mse: 0.0039 - val_loss: 0.0070 - val_mae: 0.0481 - val_mse: 0.0070\n",
      "Epoch 29/100\n",
      "16/16 [==============================] - 0s 7ms/step - loss: 0.0041 - mae: 0.0447 - mse: 0.0041 - val_loss: 0.0074 - val_mae: 0.0573 - val_mse: 0.0074\n",
      "Epoch 30/100\n",
      "16/16 [==============================] - 0s 7ms/step - loss: 0.0040 - mae: 0.0430 - mse: 0.0040 - val_loss: 0.0067 - val_mae: 0.0482 - val_mse: 0.0067\n",
      "Epoch 31/100\n",
      "16/16 [==============================] - 0s 7ms/step - loss: 0.0042 - mae: 0.0451 - mse: 0.0042 - val_loss: 0.0064 - val_mae: 0.0477 - val_mse: 0.0064\n",
      "Epoch 32/100\n",
      "16/16 [==============================] - 0s 6ms/step - loss: 0.0041 - mae: 0.0438 - mse: 0.0041 - val_loss: 0.0064 - val_mae: 0.0479 - val_mse: 0.0064\n",
      "Epoch 33/100\n",
      "16/16 [==============================] - 0s 7ms/step - loss: 0.0041 - mae: 0.0441 - mse: 0.0041 - val_loss: 0.0071 - val_mae: 0.0533 - val_mse: 0.0071\n",
      "Epoch 34/100\n",
      "16/16 [==============================] - 0s 6ms/step - loss: 0.0041 - mae: 0.0434 - mse: 0.0041 - val_loss: 0.0068 - val_mae: 0.0479 - val_mse: 0.0068\n",
      "Epoch 35/100\n",
      "16/16 [==============================] - 0s 7ms/step - loss: 0.0041 - mae: 0.0447 - mse: 0.0041 - val_loss: 0.0065 - val_mae: 0.0496 - val_mse: 0.0065\n",
      "Epoch 36/100\n",
      "16/16 [==============================] - 0s 6ms/step - loss: 0.0039 - mae: 0.0428 - mse: 0.0039 - val_loss: 0.0086 - val_mae: 0.0573 - val_mse: 0.0086\n",
      "Epoch 37/100\n",
      "16/16 [==============================] - 0s 6ms/step - loss: 0.0043 - mae: 0.0439 - mse: 0.0043 - val_loss: 0.0078 - val_mae: 0.0597 - val_mse: 0.0078\n",
      "Epoch 38/100\n",
      "16/16 [==============================] - 0s 6ms/step - loss: 0.0039 - mae: 0.0439 - mse: 0.0039 - val_loss: 0.0084 - val_mae: 0.0602 - val_mse: 0.0084\n",
      "Epoch 39/100\n",
      "16/16 [==============================] - 0s 7ms/step - loss: 0.0038 - mae: 0.0426 - mse: 0.0038 - val_loss: 0.0065 - val_mae: 0.0505 - val_mse: 0.0065\n",
      "Epoch 40/100\n",
      "16/16 [==============================] - 0s 6ms/step - loss: 0.0039 - mae: 0.0439 - mse: 0.0039 - val_loss: 0.0071 - val_mae: 0.0520 - val_mse: 0.0071\n",
      "Epoch 41/100\n",
      "16/16 [==============================] - 0s 6ms/step - loss: 0.0040 - mae: 0.0437 - mse: 0.0040 - val_loss: 0.0095 - val_mae: 0.0607 - val_mse: 0.0095\n",
      "Epoch 42/100\n",
      "16/16 [==============================] - 0s 7ms/step - loss: 0.0040 - mae: 0.0434 - mse: 0.0040 - val_loss: 0.0077 - val_mae: 0.0594 - val_mse: 0.0077\n",
      "Epoch 43/100\n",
      "16/16 [==============================] - 0s 7ms/step - loss: 0.0037 - mae: 0.0424 - mse: 0.0037 - val_loss: 0.0065 - val_mae: 0.0503 - val_mse: 0.0065\n",
      "Epoch 44/100\n",
      "16/16 [==============================] - 0s 6ms/step - loss: 0.0041 - mae: 0.0444 - mse: 0.0041 - val_loss: 0.0063 - val_mae: 0.0468 - val_mse: 0.0063\n",
      "Epoch 45/100\n",
      "16/16 [==============================] - 0s 9ms/step - loss: 0.0037 - mae: 0.0420 - mse: 0.0037 - val_loss: 0.0073 - val_mae: 0.0542 - val_mse: 0.0073\n",
      "Epoch 46/100\n",
      "16/16 [==============================] - 0s 6ms/step - loss: 0.0039 - mae: 0.0430 - mse: 0.0039 - val_loss: 0.0075 - val_mae: 0.0498 - val_mse: 0.0075\n",
      "Epoch 47/100\n",
      "16/16 [==============================] - 0s 6ms/step - loss: 0.0039 - mae: 0.0431 - mse: 0.0039 - val_loss: 0.0067 - val_mae: 0.0499 - val_mse: 0.0067\n",
      "Epoch 48/100\n",
      "16/16 [==============================] - 0s 7ms/step - loss: 0.0037 - mae: 0.0431 - mse: 0.0037 - val_loss: 0.0086 - val_mae: 0.0602 - val_mse: 0.0086\n",
      "Epoch 49/100\n",
      "16/16 [==============================] - 0s 7ms/step - loss: 0.0038 - mae: 0.0425 - mse: 0.0038 - val_loss: 0.0081 - val_mae: 0.0544 - val_mse: 0.0081\n",
      "Epoch 50/100\n",
      "16/16 [==============================] - 0s 6ms/step - loss: 0.0036 - mae: 0.0416 - mse: 0.0036 - val_loss: 0.0091 - val_mae: 0.0663 - val_mse: 0.0091\n"
     ]
    },
    {
     "name": "stdout",
     "output_type": "stream",
     "text": [
      "Epoch 51/100\n",
      "16/16 [==============================] - 0s 6ms/step - loss: 0.0040 - mae: 0.0439 - mse: 0.0040 - val_loss: 0.0069 - val_mae: 0.0510 - val_mse: 0.0069\n",
      "Epoch 52/100\n",
      "16/16 [==============================] - 0s 6ms/step - loss: 0.0036 - mae: 0.0416 - mse: 0.0036 - val_loss: 0.0098 - val_mae: 0.0605 - val_mse: 0.0098\n",
      "Epoch 53/100\n",
      "16/16 [==============================] - 0s 9ms/step - loss: 0.0040 - mae: 0.0441 - mse: 0.0040 - val_loss: 0.0080 - val_mae: 0.0602 - val_mse: 0.0080\n",
      "Epoch 54/100\n",
      "16/16 [==============================] - 0s 6ms/step - loss: 0.0038 - mae: 0.0430 - mse: 0.0038 - val_loss: 0.0069 - val_mae: 0.0527 - val_mse: 0.0069\n",
      "Epoch 55/100\n",
      "16/16 [==============================] - 0s 6ms/step - loss: 0.0037 - mae: 0.0422 - mse: 0.0037 - val_loss: 0.0085 - val_mae: 0.0552 - val_mse: 0.0085\n",
      "Epoch 56/100\n",
      "16/16 [==============================] - 0s 6ms/step - loss: 0.0039 - mae: 0.0430 - mse: 0.0039 - val_loss: 0.0101 - val_mae: 0.0661 - val_mse: 0.0101\n",
      "Epoch 57/100\n",
      "16/16 [==============================] - 0s 6ms/step - loss: 0.0036 - mae: 0.0419 - mse: 0.0036 - val_loss: 0.0074 - val_mae: 0.0485 - val_mse: 0.0074\n",
      "Epoch 58/100\n",
      "16/16 [==============================] - 0s 6ms/step - loss: 0.0037 - mae: 0.0437 - mse: 0.0037 - val_loss: 0.0104 - val_mae: 0.0700 - val_mse: 0.0104\n",
      "Epoch 59/100\n",
      "16/16 [==============================] - 0s 7ms/step - loss: 0.0040 - mae: 0.0438 - mse: 0.0040 - val_loss: 0.0073 - val_mae: 0.0544 - val_mse: 0.0073\n",
      "Epoch 60/100\n",
      "16/16 [==============================] - 0s 6ms/step - loss: 0.0036 - mae: 0.0417 - mse: 0.0036 - val_loss: 0.0068 - val_mae: 0.0486 - val_mse: 0.0068\n",
      "Epoch 61/100\n",
      "16/16 [==============================] - 0s 7ms/step - loss: 0.0036 - mae: 0.0417 - mse: 0.0036 - val_loss: 0.0070 - val_mae: 0.0500 - val_mse: 0.0070\n",
      "Epoch 62/100\n",
      "16/16 [==============================] - 0s 6ms/step - loss: 0.0036 - mae: 0.0410 - mse: 0.0036 - val_loss: 0.0087 - val_mae: 0.0614 - val_mse: 0.0087\n",
      "Epoch 63/100\n",
      "16/16 [==============================] - 0s 7ms/step - loss: 0.0038 - mae: 0.0425 - mse: 0.0038 - val_loss: 0.0071 - val_mae: 0.0494 - val_mse: 0.0071\n",
      "Epoch 64/100\n",
      "16/16 [==============================] - 0s 6ms/step - loss: 0.0039 - mae: 0.0433 - mse: 0.0039 - val_loss: 0.0072 - val_mae: 0.0550 - val_mse: 0.0072\n",
      "Epoch 65/100\n",
      "16/16 [==============================] - 0s 6ms/step - loss: 0.0035 - mae: 0.0413 - mse: 0.0035 - val_loss: 0.0074 - val_mae: 0.0511 - val_mse: 0.0074\n",
      "Epoch 66/100\n",
      "16/16 [==============================] - 0s 6ms/step - loss: 0.0037 - mae: 0.0425 - mse: 0.0037 - val_loss: 0.0066 - val_mae: 0.0468 - val_mse: 0.0066\n",
      "Epoch 67/100\n",
      "16/16 [==============================] - 0s 7ms/step - loss: 0.0035 - mae: 0.0408 - mse: 0.0035 - val_loss: 0.0082 - val_mae: 0.0615 - val_mse: 0.0082\n",
      "Epoch 68/100\n",
      "16/16 [==============================] - 0s 6ms/step - loss: 0.0039 - mae: 0.0423 - mse: 0.0039 - val_loss: 0.0065 - val_mae: 0.0466 - val_mse: 0.0065\n",
      "Epoch 69/100\n",
      "16/16 [==============================] - 0s 6ms/step - loss: 0.0036 - mae: 0.0415 - mse: 0.0036 - val_loss: 0.0064 - val_mae: 0.0492 - val_mse: 0.0064\n",
      "Epoch 70/100\n",
      "16/16 [==============================] - 0s 6ms/step - loss: 0.0035 - mae: 0.0408 - mse: 0.0035 - val_loss: 0.0068 - val_mae: 0.0470 - val_mse: 0.0068\n",
      "Epoch 71/100\n",
      "16/16 [==============================] - 0s 6ms/step - loss: 0.0034 - mae: 0.0406 - mse: 0.0034 - val_loss: 0.0092 - val_mae: 0.0600 - val_mse: 0.0092\n",
      "Epoch 72/100\n",
      "16/16 [==============================] - 0s 6ms/step - loss: 0.0038 - mae: 0.0427 - mse: 0.0038 - val_loss: 0.0080 - val_mae: 0.0562 - val_mse: 0.0080\n",
      "Epoch 73/100\n",
      "16/16 [==============================] - 0s 6ms/step - loss: 0.0035 - mae: 0.0411 - mse: 0.0035 - val_loss: 0.0067 - val_mae: 0.0472 - val_mse: 0.0067\n",
      "Epoch 74/100\n",
      "16/16 [==============================] - 0s 6ms/step - loss: 0.0036 - mae: 0.0415 - mse: 0.0036 - val_loss: 0.0078 - val_mae: 0.0591 - val_mse: 0.0078\n",
      "Epoch 75/100\n",
      "16/16 [==============================] - 0s 6ms/step - loss: 0.0036 - mae: 0.0416 - mse: 0.0036 - val_loss: 0.0068 - val_mae: 0.0483 - val_mse: 0.0068\n",
      "Epoch 76/100\n",
      "16/16 [==============================] - 0s 6ms/step - loss: 0.0035 - mae: 0.0422 - mse: 0.0035 - val_loss: 0.0080 - val_mae: 0.0603 - val_mse: 0.0080\n",
      "Epoch 77/100\n",
      "16/16 [==============================] - 0s 6ms/step - loss: 0.0036 - mae: 0.0421 - mse: 0.0036 - val_loss: 0.0067 - val_mae: 0.0511 - val_mse: 0.0067\n",
      "Epoch 78/100\n",
      "16/16 [==============================] - 0s 6ms/step - loss: 0.0037 - mae: 0.0421 - mse: 0.0037 - val_loss: 0.0091 - val_mae: 0.0619 - val_mse: 0.0091\n",
      "Epoch 79/100\n",
      "16/16 [==============================] - 0s 6ms/step - loss: 0.0038 - mae: 0.0424 - mse: 0.0038 - val_loss: 0.0075 - val_mae: 0.0535 - val_mse: 0.0075\n",
      "Epoch 80/100\n",
      "16/16 [==============================] - 0s 7ms/step - loss: 0.0033 - mae: 0.0403 - mse: 0.0033 - val_loss: 0.0068 - val_mae: 0.0480 - val_mse: 0.0068\n",
      "Epoch 81/100\n",
      "16/16 [==============================] - 0s 6ms/step - loss: 0.0036 - mae: 0.0423 - mse: 0.0036 - val_loss: 0.0073 - val_mae: 0.0497 - val_mse: 0.0073\n",
      "Epoch 82/100\n",
      "16/16 [==============================] - 0s 6ms/step - loss: 0.0034 - mae: 0.0414 - mse: 0.0034 - val_loss: 0.0071 - val_mae: 0.0479 - val_mse: 0.0071\n",
      "Epoch 83/100\n",
      "16/16 [==============================] - 0s 6ms/step - loss: 0.0034 - mae: 0.0398 - mse: 0.0034 - val_loss: 0.0075 - val_mae: 0.0486 - val_mse: 0.0075\n",
      "Epoch 84/100\n",
      "16/16 [==============================] - 0s 7ms/step - loss: 0.0035 - mae: 0.0413 - mse: 0.0035 - val_loss: 0.0083 - val_mae: 0.0524 - val_mse: 0.0083\n",
      "Epoch 85/100\n",
      "16/16 [==============================] - 0s 6ms/step - loss: 0.0035 - mae: 0.0412 - mse: 0.0035 - val_loss: 0.0088 - val_mae: 0.0598 - val_mse: 0.0088\n",
      "Epoch 86/100\n",
      "16/16 [==============================] - 0s 7ms/step - loss: 0.0036 - mae: 0.0422 - mse: 0.0036 - val_loss: 0.0074 - val_mae: 0.0506 - val_mse: 0.0074\n",
      "Epoch 87/100\n",
      "16/16 [==============================] - 0s 7ms/step - loss: 0.0036 - mae: 0.0423 - mse: 0.0036 - val_loss: 0.0067 - val_mae: 0.0468 - val_mse: 0.0067\n",
      "Epoch 88/100\n",
      "16/16 [==============================] - 0s 6ms/step - loss: 0.0033 - mae: 0.0397 - mse: 0.0033 - val_loss: 0.0097 - val_mae: 0.0613 - val_mse: 0.0097\n",
      "Epoch 89/100\n",
      "16/16 [==============================] - 0s 6ms/step - loss: 0.0037 - mae: 0.0421 - mse: 0.0037 - val_loss: 0.0069 - val_mae: 0.0467 - val_mse: 0.0069\n",
      "Epoch 90/100\n",
      "16/16 [==============================] - 0s 6ms/step - loss: 0.0034 - mae: 0.0414 - mse: 0.0034 - val_loss: 0.0071 - val_mae: 0.0532 - val_mse: 0.0071\n",
      "Epoch 91/100\n",
      "16/16 [==============================] - 0s 6ms/step - loss: 0.0035 - mae: 0.0417 - mse: 0.0035 - val_loss: 0.0067 - val_mae: 0.0489 - val_mse: 0.0067\n",
      "Epoch 92/100\n",
      "16/16 [==============================] - 0s 6ms/step - loss: 0.0033 - mae: 0.0396 - mse: 0.0033 - val_loss: 0.0066 - val_mae: 0.0471 - val_mse: 0.0066\n",
      "Epoch 93/100\n",
      "16/16 [==============================] - 0s 6ms/step - loss: 0.0034 - mae: 0.0406 - mse: 0.0034 - val_loss: 0.0074 - val_mae: 0.0508 - val_mse: 0.0074\n",
      "Epoch 94/100\n",
      "16/16 [==============================] - 0s 6ms/step - loss: 0.0034 - mae: 0.0412 - mse: 0.0034 - val_loss: 0.0069 - val_mae: 0.0506 - val_mse: 0.0069\n",
      "Epoch 95/100\n",
      "16/16 [==============================] - 0s 6ms/step - loss: 0.0035 - mae: 0.0415 - mse: 0.0035 - val_loss: 0.0102 - val_mae: 0.0688 - val_mse: 0.0102\n",
      "Epoch 96/100\n",
      "16/16 [==============================] - 0s 7ms/step - loss: 0.0035 - mae: 0.0420 - mse: 0.0035 - val_loss: 0.0069 - val_mae: 0.0561 - val_mse: 0.0069\n",
      "Epoch 97/100\n",
      "16/16 [==============================] - 0s 6ms/step - loss: 0.0034 - mae: 0.0412 - mse: 0.0034 - val_loss: 0.0069 - val_mae: 0.0468 - val_mse: 0.0069\n",
      "Epoch 98/100\n",
      "16/16 [==============================] - 0s 6ms/step - loss: 0.0034 - mae: 0.0402 - mse: 0.0034 - val_loss: 0.0076 - val_mae: 0.0518 - val_mse: 0.0076\n",
      "Epoch 99/100\n",
      "16/16 [==============================] - 0s 6ms/step - loss: 0.0036 - mae: 0.0418 - mse: 0.0036 - val_loss: 0.0072 - val_mae: 0.0493 - val_mse: 0.0072\n",
      "Epoch 100/100\n",
      "16/16 [==============================] - 0s 6ms/step - loss: 0.0034 - mae: 0.0409 - mse: 0.0034 - val_loss: 0.0072 - val_mae: 0.0484 - val_mse: 0.0072\n"
     ]
    }
   ],
   "source": [
    "epoch_hist= model.fit(X_train,y_train, epochs=100, batch_size= 50, validation_split=0.2)"
   ]
  },
  {
   "cell_type": "code",
   "execution_count": 351,
   "id": "554b5245",
   "metadata": {},
   "outputs": [],
   "source": [
    "#from sklearn.metrics import mean_squared_error\n",
    "#mean_squared_error(y_pred, y_test)"
   ]
  },
  {
   "cell_type": "code",
   "execution_count": 361,
   "id": "c0247fb2",
   "metadata": {},
   "outputs": [
    {
     "data": {
      "text/plain": [
       "(1, 5)"
      ]
     },
     "execution_count": 361,
     "metadata": {},
     "output_type": "execute_result"
    }
   ],
   "source": [
    "my_house = np.array([[0,300,280,4,4]])\n",
    "my_house.shape"
   ]
  },
  {
   "cell_type": "code",
   "execution_count": 362,
   "id": "828f0ce2",
   "metadata": {},
   "outputs": [],
   "source": [
    "my_x = scaler.transform(my_house)"
   ]
  },
  {
   "cell_type": "code",
   "execution_count": 363,
   "id": "886a4491",
   "metadata": {},
   "outputs": [
    {
     "name": "stdout",
     "output_type": "stream",
     "text": [
      "1/1 [==============================] - 0s 33ms/step\n",
      "Red Neuronal:  [[224955.77]]\n",
      "Regresión Lineal Múltiple:  [262053.47276614]\n"
     ]
    }
   ],
   "source": [
    "print('Red Neuronal: ',scaler_y.inverse_transform(model.predict(my_x)))\n",
    "print('Regresión Lineal Múltiple: ',reg.predict(my_x))\n"
   ]
  },
  {
   "cell_type": "code",
   "execution_count": 364,
   "id": "2e30aaea",
   "metadata": {},
   "outputs": [
    {
     "data": {
      "text/plain": [
       "['regression.joblib']"
      ]
     },
     "execution_count": 364,
     "metadata": {},
     "output_type": "execute_result"
    }
   ],
   "source": [
    "from joblib import dump\n",
    "dump(reg, 'regression.joblib') "
   ]
  },
  {
   "cell_type": "code",
   "execution_count": null,
   "id": "e961002e",
   "metadata": {},
   "outputs": [],
   "source": []
  }
 ],
 "metadata": {
  "kernelspec": {
   "display_name": "Python 3 (ipykernel)",
   "language": "python",
   "name": "python3"
  },
  "language_info": {
   "codemirror_mode": {
    "name": "ipython",
    "version": 3
   },
   "file_extension": ".py",
   "mimetype": "text/x-python",
   "name": "python",
   "nbconvert_exporter": "python",
   "pygments_lexer": "ipython3",
   "version": "3.8.13"
  }
 },
 "nbformat": 4,
 "nbformat_minor": 5
}
